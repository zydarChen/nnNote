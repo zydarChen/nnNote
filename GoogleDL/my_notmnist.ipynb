{
 "cells": [
  {
   "cell_type": "markdown",
   "metadata": {
    "collapsed": true
   },
   "source": [
    "## not_mnist\n",
    "- 数据集[notMNIST_large.tar.gz(235.88MB)](http://yaroslavvb.com/upload/notMNIST/notMNIST_large.tar.gz)，[notMNIST_small.tar.gz(8.07MB)](http://yaroslavvb.com/upload/notMNIST/notMNIST_small.tar.gz)\n",
    "- 参考博客[ahangchen](https://github.com/ahangchen/GDLnotes/blob/master/note/lesson-1/practical.md)\n",
    "- 与mnist类似，但不够干净，更接近于真实情况，比mbist任务更难\n",
    "- 从`A`到`J`，共10个classes，28 * 28 image"
   ]
  },
  {
   "cell_type": "markdown",
   "metadata": {},
   "source": [
    "## 下载数据集\n",
    "- `download_progress_hook`显示下载进度条\n",
    "- 使用`urllib.urlretrieve`获取远程数据集\n",
    "- 载入文件时可以设置`force`参数，选择是否强制下载\n",
    "- 返回文件路径而不是文件内容"
   ]
  },
  {
   "cell_type": "code",
   "execution_count": 2,
   "metadata": {
    "collapsed": false
   },
   "outputs": [
    {
     "name": "stdout",
     "output_type": "stream",
     "text": [
      "Found and verified /software/home/chenzh/software/jupyter/nnNote/GoogleDL/data/notMNIST_large.tar.gz\n",
      "Found and verified /software/home/chenzh/software/jupyter/nnNote/GoogleDL/data/notMNIST_small.tar.gz\n"
     ]
    }
   ],
   "source": [
    "from __future__ import print_function\n",
    "\n",
    "import os\n",
    "import sys\n",
    "\n",
    "from urllib import urlretrieve\n",
    "# 官方教程url需要科学上网\n",
    "# url = 'https://commondatastorage.googleapis.com/books1000/'\n",
    "url = 'http://yaroslavvb.com/upload/notMNIST/'\n",
    "last_percent_reported = None\n",
    "data_root = os.getcwd() + '/data' # Change me to store data elsewhere\n",
    "\n",
    "def download_progress_hook(count, blockSize, totalSize):\n",
    "    \"\"\"\n",
    "    下载进度条\n",
    "    A hook to report the progress of a download. This is mostly intended for users with \n",
    "    slow internet connections. Reports every 5% change in download progress.\n",
    "    \"\"\"\n",
    "    global last_percent_reported\n",
    "    percent = int(count * blockSize * 100 / totalSize)\n",
    "\n",
    "    if last_percent_reported != percent:\n",
    "        if percent % 5 == 0:\n",
    "            sys.stdout.write(\"%s%%\" % percent)\n",
    "            sys.stdout.flush()\n",
    "        else:\n",
    "            sys.stdout.write(\".\")\n",
    "            sys.stdout.flush()\n",
    "      \n",
    "        last_percent_reported = percent\n",
    "        \n",
    "def maybe_download(filename, expected_bytes, force=False):\n",
    "    \"\"\"\n",
    "    Download a file if not present, and make sure it's the right size.\n",
    "    返回文件路径\n",
    "    \"\"\"\n",
    "    dest_filename = os.path.join(data_root, filename)\n",
    "    if force or not os.path.exists(dest_filename):\n",
    "        print('Attempting to download:', filename)\n",
    "        filename, _ = urlretrieve(url + filename, dest_filename, reporthook=download_progress_hook)\n",
    "        print('\\nDownload Complete!')\n",
    "    statinfo = os.stat(dest_filename)\n",
    "    if statinfo.st_size == expected_bytes:\n",
    "        print('Found and verified', dest_filename)\n",
    "    else:\n",
    "        raise Exception('Failed to verify ' + dest_filename + '. Can you get to it with a browser?')\n",
    "    return dest_filename\n",
    "\n",
    "train_filename = maybe_download('notMNIST_large.tar.gz', 247336696)\n",
    "test_filename = maybe_download('notMNIST_small.tar.gz', 8458043)"
   ]
  },
  {
   "cell_type": "markdown",
   "metadata": {},
   "source": [
    "## 解压\n",
    "- 使用tarfile\n",
    "- `os.path.splittext`分离文件名与拓展名\n",
    "- 返回`data_folders`列表，列表内容为`A`到`J`文件夹路径"
   ]
  },
  {
   "cell_type": "code",
   "execution_count": 3,
   "metadata": {
    "collapsed": false
   },
   "outputs": [
    {
     "name": "stdout",
     "output_type": "stream",
     "text": [
      "/software/home/chenzh/software/jupyter/nnNote/GoogleDL/data/notMNIST_large already present - Skipping extraction of /software/home/chenzh/software/jupyter/nnNote/GoogleDL/data/notMNIST_large.tar.gz.\n",
      "['/software/home/chenzh/software/jupyter/nnNote/GoogleDL/data/notMNIST_large/A', '/software/home/chenzh/software/jupyter/nnNote/GoogleDL/data/notMNIST_large/B', '/software/home/chenzh/software/jupyter/nnNote/GoogleDL/data/notMNIST_large/C', '/software/home/chenzh/software/jupyter/nnNote/GoogleDL/data/notMNIST_large/D', '/software/home/chenzh/software/jupyter/nnNote/GoogleDL/data/notMNIST_large/E', '/software/home/chenzh/software/jupyter/nnNote/GoogleDL/data/notMNIST_large/F', '/software/home/chenzh/software/jupyter/nnNote/GoogleDL/data/notMNIST_large/G', '/software/home/chenzh/software/jupyter/nnNote/GoogleDL/data/notMNIST_large/H', '/software/home/chenzh/software/jupyter/nnNote/GoogleDL/data/notMNIST_large/I', '/software/home/chenzh/software/jupyter/nnNote/GoogleDL/data/notMNIST_large/J']\n",
      "/software/home/chenzh/software/jupyter/nnNote/GoogleDL/data/notMNIST_small already present - Skipping extraction of /software/home/chenzh/software/jupyter/nnNote/GoogleDL/data/notMNIST_small.tar.gz.\n",
      "['/software/home/chenzh/software/jupyter/nnNote/GoogleDL/data/notMNIST_small/A', '/software/home/chenzh/software/jupyter/nnNote/GoogleDL/data/notMNIST_small/B', '/software/home/chenzh/software/jupyter/nnNote/GoogleDL/data/notMNIST_small/C', '/software/home/chenzh/software/jupyter/nnNote/GoogleDL/data/notMNIST_small/D', '/software/home/chenzh/software/jupyter/nnNote/GoogleDL/data/notMNIST_small/E', '/software/home/chenzh/software/jupyter/nnNote/GoogleDL/data/notMNIST_small/F', '/software/home/chenzh/software/jupyter/nnNote/GoogleDL/data/notMNIST_small/G', '/software/home/chenzh/software/jupyter/nnNote/GoogleDL/data/notMNIST_small/H', '/software/home/chenzh/software/jupyter/nnNote/GoogleDL/data/notMNIST_small/I', '/software/home/chenzh/software/jupyter/nnNote/GoogleDL/data/notMNIST_small/J']\n"
     ]
    }
   ],
   "source": [
    "import numpy as np\n",
    "import tarfile\n",
    "\n",
    "num_classes = 10\n",
    "np.random.seed(133)\n",
    "\n",
    "def maybe_extract(filename, force=False):\n",
    "    root = os.path.splitext(os.path.splitext(filename)[0])[0]  # remove .tar.gz\n",
    "    if os.path.isdir(root) and not force:\n",
    "    # You may override by setting force=True.\n",
    "        print('%s already present - Skipping extraction of %s.' % (root, filename))\n",
    "    else:\n",
    "        print('Extracting data for %s. This may take a while. Please wait.' % root)\n",
    "        tar = tarfile.open(filename)\n",
    "        sys.stdout.flush()\n",
    "        tar.extractall(data_root)\n",
    "        tar.close()\n",
    "    data_folders = [\n",
    "        os.path.join(root, d) for d in sorted(os.listdir(root)) \n",
    "        if os.path.isdir(os.path.join(root, d))] \n",
    "    if len(data_folders) != num_classes:\n",
    "        raise Exception('Expected %d folders, one per class. Found %d instead.' % (num_classes, len(data_folders)))\n",
    "    print(data_folders)\n",
    "    return data_folders\n",
    "  \n",
    "train_folders = maybe_extract(train_filename)\n",
    "test_folders = maybe_extract(test_filename)"
   ]
  },
  {
   "cell_type": "markdown",
   "metadata": {},
   "source": [
    "## 序列化处理图像\n",
    "- 考虑到内存问题，`load_letter`读取单个字母数据\n",
    "- 使用`scipy.ndimage`读图\n",
    "- 用ndimage读取一部分图片，用pickle将读取到的对象（ndarray对象的list）序列化存储到磁盘\n",
    "- `maybe_pickle`将每个存放字母的文件夹序列化为pickle文件，并存储到本地磁盘，返回路径"
   ]
  },
  {
   "cell_type": "code",
   "execution_count": 4,
   "metadata": {
    "collapsed": true
   },
   "outputs": [
    {
     "name": "stdout",
     "output_type": "stream",
     "text": [
      "/software/home/chenzh/software/jupyter/nnNote/GoogleDL/data/notMNIST_large/A.pickle already present - Skipping pickling.\n",
      "/software/home/chenzh/software/jupyter/nnNote/GoogleDL/data/notMNIST_large/B.pickle already present - Skipping pickling.\n",
      "/software/home/chenzh/software/jupyter/nnNote/GoogleDL/data/notMNIST_large/C.pickle already present - Skipping pickling.\n",
      "/software/home/chenzh/software/jupyter/nnNote/GoogleDL/data/notMNIST_large/D.pickle already present - Skipping pickling.\n",
      "/software/home/chenzh/software/jupyter/nnNote/GoogleDL/data/notMNIST_large/E.pickle already present - Skipping pickling.\n",
      "/software/home/chenzh/software/jupyter/nnNote/GoogleDL/data/notMNIST_large/F.pickle already present - Skipping pickling.\n",
      "/software/home/chenzh/software/jupyter/nnNote/GoogleDL/data/notMNIST_large/G.pickle already present - Skipping pickling.\n",
      "/software/home/chenzh/software/jupyter/nnNote/GoogleDL/data/notMNIST_large/H.pickle already present - Skipping pickling.\n",
      "/software/home/chenzh/software/jupyter/nnNote/GoogleDL/data/notMNIST_large/I.pickle already present - Skipping pickling.\n",
      "/software/home/chenzh/software/jupyter/nnNote/GoogleDL/data/notMNIST_large/J.pickle already present - Skipping pickling.\n",
      "/software/home/chenzh/software/jupyter/nnNote/GoogleDL/data/notMNIST_small/A.pickle already present - Skipping pickling.\n",
      "/software/home/chenzh/software/jupyter/nnNote/GoogleDL/data/notMNIST_small/B.pickle already present - Skipping pickling.\n",
      "/software/home/chenzh/software/jupyter/nnNote/GoogleDL/data/notMNIST_small/C.pickle already present - Skipping pickling.\n",
      "/software/home/chenzh/software/jupyter/nnNote/GoogleDL/data/notMNIST_small/D.pickle already present - Skipping pickling.\n",
      "/software/home/chenzh/software/jupyter/nnNote/GoogleDL/data/notMNIST_small/E.pickle already present - Skipping pickling.\n",
      "/software/home/chenzh/software/jupyter/nnNote/GoogleDL/data/notMNIST_small/F.pickle already present - Skipping pickling.\n",
      "/software/home/chenzh/software/jupyter/nnNote/GoogleDL/data/notMNIST_small/G.pickle already present - Skipping pickling.\n",
      "/software/home/chenzh/software/jupyter/nnNote/GoogleDL/data/notMNIST_small/H.pickle already present - Skipping pickling.\n",
      "/software/home/chenzh/software/jupyter/nnNote/GoogleDL/data/notMNIST_small/I.pickle already present - Skipping pickling.\n",
      "/software/home/chenzh/software/jupyter/nnNote/GoogleDL/data/notMNIST_small/J.pickle already present - Skipping pickling.\n"
     ]
    }
   ],
   "source": [
    "import numpy as np\n",
    "from scipy import ndimage\n",
    "from six.moves import cPickle as pickle\n",
    "\n",
    "image_size = 28  # Pixel width and height.\n",
    "pixel_depth = 255.0  # Number of levels per pixel.\n",
    "\n",
    "def load_letter(folder, min_num_images):\n",
    "    \"\"\"\n",
    "    针对单个字母的文件夹，遍历所有图片并序列化\n",
    "    返回dataset为三维数组\n",
    "    Load the data for a single letter label.\"\"\"\n",
    "    image_files = os.listdir(folder)  # 文件列表\n",
    "    dataset = np.ndarray(shape=(len(image_files), image_size, image_size), dtype=np.float32)\n",
    "    print(folder)\n",
    "    num_images = 0\n",
    "    for image in image_files:  # 每一张图\n",
    "        image_file = os.path.join(folder, image)\n",
    "        try:\n",
    "            image_data = (ndimage.imread(image_file).astype(float) - pixel_depth / 2) / pixel_depth  # 读图\n",
    "            if image_data.shape != (image_size, image_size):\n",
    "                raise Exception('Unexpected image shape: %s' % str(image_data.shape))\n",
    "            dataset[num_images, :, :] = image_data\n",
    "            num_images = num_images + 1\n",
    "        except IOError as e:\n",
    "            print('Could not read:', image_file, ':', e, '- it\\'s ok, skipping.')\n",
    "    \n",
    "    dataset = dataset[0:num_images, :, :]\n",
    "    if num_images < min_num_images:\n",
    "        raise Exception('Many fewer images than expected: %d < %d' % (num_images, min_num_images))\n",
    "    print('Full dataset tensor:', dataset.shape)\n",
    "    print('Mean:', np.mean(dataset))\n",
    "    print('Standard deviation:', np.std(dataset))\n",
    "    return dataset\n",
    "        \n",
    "def maybe_pickle(data_folders, min_num_images_per_class, force=False):\n",
    "    dataset_names = []\n",
    "    for folder in data_folders:\n",
    "        set_filename = folder + '.pickle'\n",
    "        dataset_names.append(set_filename)\n",
    "        if os.path.exists(set_filename) and not force:\n",
    "            # You may override by setting force=True.\n",
    "            print('%s already present - Skipping pickling.' % set_filename)\n",
    "        else:\n",
    "            print('Pickling %s.' % set_filename)\n",
    "            dataset = load_letter(folder, min_num_images_per_class)\n",
    "            try:\n",
    "                with open(set_filename, 'wb') as f:\n",
    "                    pickle.dump(dataset, f, pickle.HIGHEST_PROTOCOL)\n",
    "            except Exception as e:\n",
    "                print('Unable to save data to', set_filename, ':', e)\n",
    "    return dataset_names\n",
    "                      \n",
    "train_datasets = maybe_pickle(train_folders, 45000)\n",
    "test_datasets = maybe_pickle(test_folders, 1800)"
   ]
  },
  {
   "cell_type": "markdown",
   "metadata": {},
   "source": [
    "## 显示图像"
   ]
  },
  {
   "cell_type": "code",
   "execution_count": 5,
   "metadata": {
    "collapsed": false
   },
   "outputs": [
    {
     "data": {
      "image/png": "[encoded data removed]",
      "text/plain": [
       "<matplotlib.figure.Figure at 0x7fc00dcd7fd0>"
      ]
     },
     "metadata": {},
     "output_type": "display_data"
    }
   ],
   "source": [
    "import matplotlib.pyplot as plt\n",
    "\n",
    "def load_pickle(pickle_name):\n",
    "    # load a pickle file to memory\n",
    "    if os.path.exists(pickle_name):\n",
    "        return pickle.load(open(pickle_name, \"r\"))\n",
    "    return None\n",
    "\n",
    "def show_imgs(imgs, show_max=-1):\n",
    "    show_cnt = show_max\n",
    "    if show_max == -1:\n",
    "        show_cnt = len(imgs)\n",
    "\n",
    "    for image_index in xrange(show_cnt):\n",
    "        # they are binary images, if RGBs, don't add cmap=\"Graeys\"\n",
    "        plt.imshow(imgs[image_index], cmap=\"Greys\")\n",
    "        plt.show()\n",
    "\n",
    "imgs_A = load_pickle(train_datasets[0])  # 读入A.pickle\n",
    "show_imgs(imgs_A, 1)"
   ]
  },
  {
   "cell_type": "markdown",
   "metadata": {},
   "source": [
    "## 训练集、测试集、验证集\n",
    "- 训练集200000、测试集10000、验证集10000\n",
    "- `random.shuffle`将数据乱序"
   ]
  },
  {
   "cell_type": "code",
   "execution_count": 6,
   "metadata": {
    "collapsed": false
   },
   "outputs": [
    {
     "name": "stdout",
     "output_type": "stream",
     "text": [
      "Training: (200000, 28, 28) (200000,)\n",
      "Validation: (10000, 28, 28) (10000,)\n",
      "Testing: (10000, 28, 28) (10000,)\n"
     ]
    }
   ],
   "source": [
    "def make_arrays(nb_rows, img_size):\n",
    "    '''初始化'''\n",
    "    if nb_rows:\n",
    "        dataset = np.ndarray((nb_rows, img_size, img_size), dtype=np.float32)\n",
    "        labels = np.ndarray(nb_rows, dtype=np.int32)\n",
    "    else:\n",
    "        dataset, labels = None, None\n",
    "    return dataset, labels\n",
    "\n",
    "def merge_datasets(pickle_files, train_size, valid_size=0):\n",
    "    num_classes = len(pickle_files)\n",
    "    valid_dataset, valid_labels = make_arrays(valid_size, image_size)\n",
    "    train_dataset, train_labels = make_arrays(train_size, image_size)\n",
    "    vsize_per_class = valid_size // num_classes\n",
    "    tsize_per_class = train_size // num_classes\n",
    "    \n",
    "    start_v, start_t = 0, 0\n",
    "    end_v, end_t = vsize_per_class, tsize_per_class\n",
    "    end_l = vsize_per_class+tsize_per_class\n",
    "    for label, pickle_file in enumerate(pickle_files):       \n",
    "        try:\n",
    "            with open(pickle_file, 'rb') as f:\n",
    "                letter_set = pickle.load(f)\n",
    "                # let's shuffle the letters to have random validation and training set\n",
    "                np.random.shuffle(letter_set)\n",
    "                if valid_dataset is not None:\n",
    "                    valid_letter = letter_set[:vsize_per_class, :, :]\n",
    "                    valid_dataset[start_v:end_v, :, :] = valid_letter\n",
    "                    valid_labels[start_v:end_v] = label\n",
    "                    start_v += vsize_per_class\n",
    "                    end_v += vsize_per_class\n",
    "                \n",
    "                train_letter = letter_set[vsize_per_class:end_l, :, :]\n",
    "                train_dataset[start_t:end_t, :, :] = train_letter\n",
    "                train_labels[start_t:end_t] = label\n",
    "                start_t += tsize_per_class\n",
    "                end_t += tsize_per_class\n",
    "        except Exception as e:\n",
    "            print('Unable to process data from', pickle_file, ':', e)\n",
    "            raise\n",
    "            \n",
    "    return valid_dataset, valid_labels, train_dataset, train_labels\n",
    "            \n",
    "            \n",
    "train_size = 200000\n",
    "valid_size = 10000\n",
    "test_size = 10000\n",
    "\n",
    "valid_dataset, valid_labels, train_dataset, train_labels = merge_datasets(\n",
    "  train_datasets, train_size, valid_size)\n",
    "_, _, test_dataset, test_labels = merge_datasets(test_datasets, test_size)\n",
    "\n",
    "print('Training:', train_dataset.shape, train_labels.shape)\n",
    "print('Validation:', valid_dataset.shape, valid_labels.shape)\n",
    "print('Testing:', test_dataset.shape, test_labels.shape)"
   ]
  },
  {
   "cell_type": "markdown",
   "metadata": {},
   "source": [
    "## 正则化"
   ]
  },
  {
   "cell_type": "code",
   "execution_count": 7,
   "metadata": {
    "collapsed": true
   },
   "outputs": [],
   "source": [
    "def randomize(dataset, labels):\n",
    "    permutation = np.random.permutation(labels.shape[0])  # 洗牌\n",
    "    shuffled_dataset = dataset[permutation,:,:]\n",
    "    shuffled_labels = labels[permutation]\n",
    "    return shuffled_dataset, shuffled_labels\n",
    "train_dataset, train_labels = randomize(train_dataset, train_labels)\n",
    "test_dataset, test_labels = randomize(test_dataset, test_labels)\n",
    "valid_dataset, valid_labels = randomize(valid_dataset, valid_labels)"
   ]
  },
  {
   "cell_type": "markdown",
   "metadata": {},
   "source": [
    "## 保存到本地"
   ]
  },
  {
   "cell_type": "code",
   "execution_count": 13,
   "metadata": {
    "collapsed": true
   },
   "outputs": [],
   "source": [
    "def save_obj(pickle_file, obj):\n",
    "    try:\n",
    "        f = open(pickle_file, 'wb')\n",
    "        pickle.dump(obj, f, pickle.HIGHEST_PROTOCOL)\n",
    "        f.close()\n",
    "    except Exception as e:\n",
    "        print('Unable to save data to', pickle_file, ':', e)\n",
    "        raise\n",
    "    statinfo = os.stat(pickle_file)\n",
    "    print('Compressed pickle size:', statinfo.st_size)"
   ]
  },
  {
   "cell_type": "code",
   "execution_count": 29,
   "metadata": {
    "collapsed": false
   },
   "outputs": [
    {
     "name": "stdout",
     "output_type": "stream",
     "text": [
      "Compressed pickle size: 690800441\n"
     ]
    }
   ],
   "source": [
    "pickle_file = os.path.join(data_root, 'notMNIST.pickle')\n",
    "save = {\n",
    "    'train_dataset': train_dataset,\n",
    "    'train_labels': train_labels,\n",
    "    'valid_dataset': valid_dataset,\n",
    "    'valid_labels': valid_labels,\n",
    "    'test_dataset': test_dataset,\n",
    "    'test_labels': test_labels,\n",
    "}\n",
    "save_obj(pickle_file, save)"
   ]
  },
  {
   "cell_type": "markdown",
   "metadata": {},
   "source": [
    "## 数据去重\n",
    "- `.pickle`文件存在重复数据\n",
    "- 每个dataset都是一个二维浮点数组的list，也可以理解为三维浮点数组\n",
    "- 比较list中的每个图，也就是将list1中每个二维浮点数组与list2中每个二维浮点数组比较，但效率极慢\n",
    "- 比较图像的hash值"
   ]
  },
  {
   "cell_type": "code",
   "execution_count": 19,
   "metadata": {
    "collapsed": true
   },
   "outputs": [],
   "source": [
    "from tqdm import tqdm\n",
    "\n",
    "def img_hash(pix_s):  # hash值计算\n",
    "    seed = 131\n",
    "    v_hash = 0\n",
    "    for row in pix_s:\n",
    "        for p in row:\n",
    "            v_hash = v_hash * seed + int(p * 255)\n",
    "    return v_hash & 0x7FFFFFFF\n",
    "\n",
    "def imgs_idx_hash_except(left, right):\n",
    "    except_idxs = []\n",
    "    print('compute right hash...')\n",
    "    right_hashes = [img_hash(img) for img in tqdm(right)]\n",
    "    print('compare...')\n",
    "    for i in tqdm(range(len(left))):\n",
    "        if img_hash(left[i]) in right_hashes:\n",
    "#             print('compare left[%d] to right found the same' % i)\n",
    "            except_idxs.append(i)\n",
    "    res = np.delete(left, except_idxs, axis=0)\n",
    "    return except_idxs, res\n",
    "\n",
    "def clean():\n",
    "    datasets = load_pickle(os.path.join(data_root , 'notMNIST.pickle'))\n",
    "    test_dataset = datasets['test_dataset']\n",
    "    test_labels = datasets['test_labels']\n",
    "    \n",
    "    print('验证集与测试集去重...')\n",
    "    except_valid_idx, valid_dataset = imgs_idx_hash_except(datasets['valid_dataset'], test_dataset)  # 验证集与测试集去重\n",
    "    valid_labels = np.delete(datasets['valid_labels'], except_valid_idx)\n",
    "    print('训练集与验证集去重...')\n",
    "    except_train_idx, train_dataset = imgs_idx_hash_except(datasets['train_dataset'], valid_dataset)  # 训练集与验证集去重\n",
    "    train_labels = np.delete(datasets['train_labels'], except_train_idx)\n",
    "    print('训练集与测试集去重...')\n",
    "    except_train_idx, train_dataset = imgs_idx_hash_except(train_dataset, test_dataset)  # 训练集与测试集去重\n",
    "    train_labels = np.delete(train_labels, except_train_idx)\n",
    "    \n",
    "    print('train_dataset:%d' % len(train_dataset))\n",
    "    print('train_labels:%d' % len(train_labels))\n",
    "    print('valid_dataset:%d' % len(valid_dataset))\n",
    "    print('valid_labels:%d' % len(valid_labels))\n",
    "    print('test_dataset:%d' % len(test_dataset))\n",
    "    print('test_labels:%d' % len(test_labels))\n",
    "    \n",
    "    pickle_file = os.path.join(data_root, 'notMNIST_clean.pickle')\n",
    "    save = {\n",
    "        'train_dataset': train_dataset,\n",
    "        'train_labels': train_labels,\n",
    "        'valid_dataset': valid_dataset,\n",
    "        'valid_labels': valid_labels,\n",
    "        'test_dataset': test_dataset,\n",
    "        'test_labels': test_labels,\n",
    "    }\n",
    "    save_obj(pickle_file, save)"
   ]
  },
  {
   "cell_type": "code",
   "execution_count": 20,
   "metadata": {
    "collapsed": false
   },
   "outputs": [
    {
     "name": "stderr",
     "output_type": "stream",
     "text": [
      "  0%|          | 26/10000 [00:00<00:39, 255.60it/s]"
     ]
    },
    {
     "name": "stdout",
     "output_type": "stream",
     "text": [
      "compute right hash...\n"
     ]
    },
    {
     "name": "stderr",
     "output_type": "stream",
     "text": [
      "100%|██████████| 10000/10000 [00:39<00:00, 251.82it/s]\n",
      "  0%|          | 25/10000 [00:00<00:41, 241.05it/s]"
     ]
    },
    {
     "name": "stdout",
     "output_type": "stream",
     "text": [
      "compare...\n"
     ]
    },
    {
     "name": "stderr",
     "output_type": "stream",
     "text": [
      "100%|██████████| 10000/10000 [00:42<00:00, 235.26it/s]\n",
      "  0%|          | 26/9828 [00:00<00:38, 254.59it/s]"
     ]
    },
    {
     "name": "stdout",
     "output_type": "stream",
     "text": [
      "compute right hash...\n"
     ]
    },
    {
     "name": "stderr",
     "output_type": "stream",
     "text": [
      "100%|██████████| 9828/9828 [00:38<00:00, 255.27it/s]\n",
      "  0%|          | 24/200000 [00:00<14:02, 237.45it/s]"
     ]
    },
    {
     "name": "stdout",
     "output_type": "stream",
     "text": [
      "compare...\n"
     ]
    },
    {
     "name": "stderr",
     "output_type": "stream",
     "text": [
      "100%|██████████| 200000/200000 [14:14<00:00, 234.18it/s]\n",
      "  0%|          | 26/10000 [00:00<00:38, 257.95it/s]"
     ]
    },
    {
     "name": "stdout",
     "output_type": "stream",
     "text": [
      "compute right hash...\n"
     ]
    },
    {
     "name": "stderr",
     "output_type": "stream",
     "text": [
      "100%|██████████| 10000/10000 [00:40<00:00, 248.47it/s]\n",
      "  0%|          | 24/198673 [00:00<14:02, 235.65it/s]"
     ]
    },
    {
     "name": "stdout",
     "output_type": "stream",
     "text": [
      "compare...\n"
     ]
    },
    {
     "name": "stderr",
     "output_type": "stream",
     "text": [
      "100%|██████████| 198673/198673 [14:20<00:00, 230.82it/s]\n"
     ]
    },
    {
     "name": "stdout",
     "output_type": "stream",
     "text": [
      "train_dataset:195151\n",
      "train_labels:195151\n",
      "valid_dataset:9828\n",
      "valid_labels:9828\n",
      "test_dataset:10000\n",
      "test_labels:10000\n",
      "Compressed pickle size: 675034501\n"
     ]
    }
   ],
   "source": [
    "clean()"
   ]
  },
  {
   "cell_type": "markdown",
   "metadata": {},
   "source": [
    "## 训练一个logistics 模型"
   ]
  },
  {
   "cell_type": "code",
   "execution_count": 3,
   "metadata": {
    "collapsed": true
   },
   "outputs": [],
   "source": [
    "import os\n",
    "from six.moves import cPickle as pickle\n",
    "data_root = os.getcwd() + '/data' # Change me to store data elsewhere\n",
    "\n",
    "def load_pickle(pickle_name):\n",
    "    # load a pickle file to memory\n",
    "    if os.path.exists(pickle_name):\n",
    "        return pickle.load(open(pickle_name, \"r\"))\n",
    "    return None\n",
    "\n",
    "def save_obj(pickle_file, obj):\n",
    "    try:\n",
    "        f = open(pickle_file, 'wb')\n",
    "        pickle.dump(obj, f, pickle.HIGHEST_PROTOCOL)\n",
    "        f.close()\n",
    "    except Exception as e:\n",
    "        print('Unable to save data to', pickle_file, ':', e)\n",
    "        raise\n",
    "    statinfo = os.stat(pickle_file)\n",
    "    print('Compressed pickle size:', statinfo.st_size)\n",
    "\n",
    "from sklearn.linear_model import LogisticRegression\n",
    "\n",
    "datasets = load_pickle(os.path.join(data_root, 'notMNIST_clean.pickle'))\n",
    "train_dataset = datasets['train_dataset']\n",
    "train_labels = datasets['train_labels']\n",
    "valid_dataset = datasets['valid_dataset']\n",
    "valid_labels = datasets['valid_labels']"
   ]
  },
  {
   "cell_type": "code",
   "execution_count": 5,
   "metadata": {
    "collapsed": false
   },
   "outputs": [
    {
     "name": "stdout",
     "output_type": "stream",
     "text": [
      "[4 3 1 5 7 0 0 2 5 1 6 0 3 8]\n",
      "[4 3 1 5 7 6 0 2 5 1 6 0 3 8]\n",
      "success rate:82.3768823769%\n"
     ]
    }
   ],
   "source": [
    "classifier_name = os.path.join(data_root, 'classifier.pickle')\n",
    "\n",
    "if os.path.exists(classifier_name):\n",
    "    classifier = load_pickle(classifier_name)\n",
    "else:\n",
    "    classifier = LogisticRegression()\n",
    "    classifier.fit(train_dataset.reshape(train_dataset.shape[0], -1), train_labels)\n",
    "    save_obj(classifier_name, classifier)\n",
    "\n",
    "# simple valid\n",
    "valid_idx_s = 3000\n",
    "valid_idx_e = 3014\n",
    "x = classifier.predict(valid_dataset.reshape(valid_dataset.shape[0], -1)[valid_idx_s: valid_idx_e])\n",
    "print(x)\n",
    "print(valid_labels[valid_idx_s:valid_idx_e])\n",
    "\n",
    "# whole valid\n",
    "x = classifier.predict(valid_dataset.reshape(valid_dataset.shape[0], -1))\n",
    "fail_cnt = 0\n",
    "for i, pred in enumerate(x):\n",
    "    if pred != valid_labels[i]:\n",
    "        fail_cnt += 1\n",
    "print(\"success rate:\" + str((1 - float(fail_cnt) / len(x)) * 100) + \"%\")\n",
    "\n",
    "# from sklearn.metrics import accuracy_score\n",
    "# print ('accuracy:' + accuracy_score(valid_labels, x))"
   ]
  },
  {
   "cell_type": "code",
   "execution_count": null,
   "metadata": {
    "collapsed": true
   },
   "outputs": [],
   "source": []
  }
 ],
 "metadata": {
  "kernelspec": {
   "display_name": "Python 2",
   "language": "python",
   "name": "python2"
  },
  "language_info": {
   "codemirror_mode": {
    "name": "ipython",
    "version": 2
   },
   "file_extension": ".py",
   "mimetype": "text/x-python",
   "name": "python",
   "nbconvert_exporter": "python",
   "pygments_lexer": "ipython2",
   "version": "2.7.13"
  }
 },
 "nbformat": 4,
 "nbformat_minor": 2
}
