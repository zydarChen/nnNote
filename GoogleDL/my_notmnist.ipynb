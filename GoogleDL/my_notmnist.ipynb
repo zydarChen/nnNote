{
 "cells": [
  {
   "cell_type": "markdown",
   "metadata": {
    "collapsed": true
   },
   "source": [
    "## not_mnist\n",
    "- 数据集[notMNIST_large.tar.gz(235.88MB)](http://yaroslavvb.com/upload/notMNIST/notMNIST_large.tar.gz)，[notMNIST_small.tar.gz(8.07MB)](http://yaroslavvb.com/upload/notMNIST/notMNIST_small.tar.gz)\n",
    "- 参考博客[ahangchen](https://github.com/ahangchen/GDLnotes/blob/master/note/lesson-1/practical.md)\n",
    "- 与mnist类似，但不够干净，更接近于真实情况，比mbist任务更难\n",
    "- 从`A`到`J`，共10个classes，28 * 28 image"
   ]
  },
  {
   "cell_type": "markdown",
   "metadata": {},
   "source": [
    "## 下载数据集\n",
    "- `download_progress_hook`显示下载进度条\n",
    "- 使用`urllib.urlretrieve`获取远程数据集\n",
    "- 载入文件时可以设置`force`参数，选择是否强制下载\n",
    "- 返回文件路径而不是文件内容"
   ]
  },
  {
   "cell_type": "code",
   "execution_count": 1,
   "metadata": {},
   "outputs": [
    {
     "name": "stdout",
     "output_type": "stream",
     "text": [
      "Found and verified /software/home/chenzh/software/jupyter/nnNote/GoogleDL/data/notMNIST_large.tar.gz\n",
      "Found and verified /software/home/chenzh/software/jupyter/nnNote/GoogleDL/data/notMNIST_small.tar.gz\n"
     ]
    }
   ],
   "source": [
    "from __future__ import print_function\n",
    "\n",
    "import os\n",
    "import sys\n",
    "\n",
    "from urllib import urlretrieve\n",
    "# 官方教程url需要科学上网\n",
    "# url = 'https://commondatastorage.googleapis.com/books1000/'\n",
    "url = 'http://yaroslavvb.com/upload/notMNIST/'\n",
    "last_percent_reported = None\n",
    "data_root = os.getcwd() + '/data' # Change me to store data elsewhere\n",
    "\n",
    "def download_progress_hook(count, blockSize, totalSize):\n",
    "    \"\"\"\n",
    "    下载进度条\n",
    "    A hook to report the progress of a download. This is mostly intended for users with \n",
    "    slow internet connections. Reports every 5% change in download progress.\n",
    "    \"\"\"\n",
    "    global last_percent_reported\n",
    "    percent = int(count * blockSize * 100 / totalSize)\n",
    "\n",
    "    if last_percent_reported != percent:\n",
    "        if percent % 5 == 0:\n",
    "            sys.stdout.write(\"%s%%\" % percent)\n",
    "            sys.stdout.flush()\n",
    "        else:\n",
    "            sys.stdout.write(\".\")\n",
    "            sys.stdout.flush()\n",
    "      \n",
    "        last_percent_reported = percent\n",
    "        \n",
    "def maybe_download(filename, expected_bytes, force=False):\n",
    "    \"\"\"\n",
    "    Download a file if not present, and make sure it's the right size.\n",
    "    返回文件路径\n",
    "    \"\"\"\n",
    "    dest_filename = os.path.join(data_root, filename)\n",
    "    if force or not os.path.exists(dest_filename):\n",
    "        print('Attempting to download:', filename)\n",
    "        filename, _ = urlretrieve(url + filename, dest_filename, reporthook=download_progress_hook)\n",
    "        print('\\nDownload Complete!')\n",
    "    statinfo = os.stat(dest_filename)\n",
    "    if statinfo.st_size == expected_bytes:\n",
    "        print('Found and verified', dest_filename)\n",
    "    else:\n",
    "        raise Exception('Failed to verify ' + dest_filename + '. Can you get to it with a browser?')\n",
    "    return dest_filename\n",
    "\n",
    "train_filename = maybe_download('notMNIST_large.tar.gz', 247336696)\n",
    "test_filename = maybe_download('notMNIST_small.tar.gz', 8458043)"
   ]
  },
  {
   "cell_type": "markdown",
   "metadata": {},
   "source": [
    "## 解压\n",
    "- 使用tarfile\n",
    "- `os.path.splittext`分离文件名与拓展名\n",
    "- 返回`data_folders`列表，列表内容为`A`到`J`文件夹路径"
   ]
  },
  {
   "cell_type": "code",
   "execution_count": 3,
   "metadata": {},
   "outputs": [
    {
     "name": "stdout",
     "output_type": "stream",
     "text": [
      "/software/home/chenzh/software/jupyter/nnNote/GoogleDL/data/notMNIST_large already present - Skipping extraction of /software/home/chenzh/software/jupyter/nnNote/GoogleDL/data/notMNIST_large.tar.gz.\n",
      "['/software/home/chenzh/software/jupyter/nnNote/GoogleDL/data/notMNIST_large/A', '/software/home/chenzh/software/jupyter/nnNote/GoogleDL/data/notMNIST_large/B', '/software/home/chenzh/software/jupyter/nnNote/GoogleDL/data/notMNIST_large/C', '/software/home/chenzh/software/jupyter/nnNote/GoogleDL/data/notMNIST_large/D', '/software/home/chenzh/software/jupyter/nnNote/GoogleDL/data/notMNIST_large/E', '/software/home/chenzh/software/jupyter/nnNote/GoogleDL/data/notMNIST_large/F', '/software/home/chenzh/software/jupyter/nnNote/GoogleDL/data/notMNIST_large/G', '/software/home/chenzh/software/jupyter/nnNote/GoogleDL/data/notMNIST_large/H', '/software/home/chenzh/software/jupyter/nnNote/GoogleDL/data/notMNIST_large/I', '/software/home/chenzh/software/jupyter/nnNote/GoogleDL/data/notMNIST_large/J']\n",
      "/software/home/chenzh/software/jupyter/nnNote/GoogleDL/data/notMNIST_small already present - Skipping extraction of /software/home/chenzh/software/jupyter/nnNote/GoogleDL/data/notMNIST_small.tar.gz.\n",
      "['/software/home/chenzh/software/jupyter/nnNote/GoogleDL/data/notMNIST_small/A', '/software/home/chenzh/software/jupyter/nnNote/GoogleDL/data/notMNIST_small/B', '/software/home/chenzh/software/jupyter/nnNote/GoogleDL/data/notMNIST_small/C', '/software/home/chenzh/software/jupyter/nnNote/GoogleDL/data/notMNIST_small/D', '/software/home/chenzh/software/jupyter/nnNote/GoogleDL/data/notMNIST_small/E', '/software/home/chenzh/software/jupyter/nnNote/GoogleDL/data/notMNIST_small/F', '/software/home/chenzh/software/jupyter/nnNote/GoogleDL/data/notMNIST_small/G', '/software/home/chenzh/software/jupyter/nnNote/GoogleDL/data/notMNIST_small/H', '/software/home/chenzh/software/jupyter/nnNote/GoogleDL/data/notMNIST_small/I', '/software/home/chenzh/software/jupyter/nnNote/GoogleDL/data/notMNIST_small/J']\n"
     ]
    }
   ],
   "source": [
    "import numpy as np\n",
    "import tarfile\n",
    "\n",
    "num_classes = 10\n",
    "np.random.seed(133)\n",
    "\n",
    "def maybe_extract(filename, force=False):\n",
    "    root = os.path.splitext(os.path.splitext(filename)[0])[0]  # remove .tar.gz\n",
    "    if os.path.isdir(root) and not force:\n",
    "    # You may override by setting force=True.\n",
    "        print('%s already present - Skipping extraction of %s.' % (root, filename))\n",
    "    else:\n",
    "        print('Extracting data for %s. This may take a while. Please wait.' % root)\n",
    "        tar = tarfile.open(filename)\n",
    "        sys.stdout.flush()\n",
    "        tar.extractall(data_root)\n",
    "        tar.close()\n",
    "    data_folders = [\n",
    "        os.path.join(root, d) for d in sorted(os.listdir(root)) \n",
    "        if os.path.isdir(os.path.join(root, d))] \n",
    "    if len(data_folders) != num_classes:\n",
    "        raise Exception('Expected %d folders, one per class. Found %d instead.' % (num_classes, len(data_folders)))\n",
    "    print(data_folders)\n",
    "    return data_folders\n",
    "  \n",
    "train_folders = maybe_extract(train_filename)\n",
    "test_folders = maybe_extract(test_filename)"
   ]
  },
  {
   "cell_type": "markdown",
   "metadata": {},
   "source": [
    "## 序列化处理图像\n",
    "- 考虑到内存问题，`load_letter`读取单个字母数据\n",
    "- 使用`scipy.ndimage`读图\n",
    "- 用ndimage读取一部分图片，用pickle将读取到的对象（ndarray对象的list）序列化存储到磁盘\n",
    "- `maybe_pickle`将每个存放字母的文件夹序列化为pickle文件，并存储到本地磁盘，返回路径"
   ]
  },
  {
   "cell_type": "code",
   "execution_count": 9,
   "metadata": {
    "collapsed": true
   },
   "outputs": [
    {
     "name": "stdout",
     "output_type": "stream",
     "text": [
      "Pickling /software/home/chenzh/software/jupyter/nnNote/GoogleDL/data/notMNIST_large/A.pickle.\n",
      "/software/home/chenzh/software/jupyter/nnNote/GoogleDL/data/notMNIST_large/A\n",
      "Could not read: /software/home/chenzh/software/jupyter/nnNote/GoogleDL/data/notMNIST_large/A/Um9tYW5hIEJvbGQucGZi.png : cannot identify image file '/software/home/chenzh/software/jupyter/nnNote/GoogleDL/data/notMNIST_large/A/Um9tYW5hIEJvbGQucGZi.png' - it's ok, skipping.\n",
      "Could not read: /software/home/chenzh/software/jupyter/nnNote/GoogleDL/data/notMNIST_large/A/RnJlaWdodERpc3BCb29rSXRhbGljLnR0Zg==.png : cannot identify image file '/software/home/chenzh/software/jupyter/nnNote/GoogleDL/data/notMNIST_large/A/RnJlaWdodERpc3BCb29rSXRhbGljLnR0Zg==.png' - it's ok, skipping.\n",
      "Could not read: /software/home/chenzh/software/jupyter/nnNote/GoogleDL/data/notMNIST_large/A/SG90IE11c3RhcmQgQlROIFBvc3Rlci50dGY=.png : cannot identify image file '/software/home/chenzh/software/jupyter/nnNote/GoogleDL/data/notMNIST_large/A/SG90IE11c3RhcmQgQlROIFBvc3Rlci50dGY=.png' - it's ok, skipping.\n",
      "Full dataset tensor: (52909, 28, 28)\n",
      "Mean: -0.12825\n",
      "Standard deviation: 0.443121\n",
      "Pickling /software/home/chenzh/software/jupyter/nnNote/GoogleDL/data/notMNIST_large/B.pickle.\n",
      "/software/home/chenzh/software/jupyter/nnNote/GoogleDL/data/notMNIST_large/B\n",
      "Could not read: /software/home/chenzh/software/jupyter/nnNote/GoogleDL/data/notMNIST_large/B/TmlraXNFRi1TZW1pQm9sZEl0YWxpYy5vdGY=.png : cannot identify image file '/software/home/chenzh/software/jupyter/nnNote/GoogleDL/data/notMNIST_large/B/TmlraXNFRi1TZW1pQm9sZEl0YWxpYy5vdGY=.png' - it's ok, skipping.\n",
      "Full dataset tensor: (52911, 28, 28)\n",
      "Mean: -0.00756303\n",
      "Standard deviation: 0.454492\n",
      "Pickling /software/home/chenzh/software/jupyter/nnNote/GoogleDL/data/notMNIST_large/C.pickle.\n",
      "/software/home/chenzh/software/jupyter/nnNote/GoogleDL/data/notMNIST_large/C\n",
      "Full dataset tensor: (52912, 28, 28)\n",
      "Mean: -0.142258\n",
      "Standard deviation: 0.439807\n",
      "Pickling /software/home/chenzh/software/jupyter/nnNote/GoogleDL/data/notMNIST_large/D.pickle.\n",
      "/software/home/chenzh/software/jupyter/nnNote/GoogleDL/data/notMNIST_large/D\n",
      "Could not read: /software/home/chenzh/software/jupyter/nnNote/GoogleDL/data/notMNIST_large/D/VHJhbnNpdCBCb2xkLnR0Zg==.png : cannot identify image file '/software/home/chenzh/software/jupyter/nnNote/GoogleDL/data/notMNIST_large/D/VHJhbnNpdCBCb2xkLnR0Zg==.png' - it's ok, skipping.\n",
      "Full dataset tensor: (52911, 28, 28)\n",
      "Mean: -0.0573678\n",
      "Standard deviation: 0.455647\n",
      "Pickling /software/home/chenzh/software/jupyter/nnNote/GoogleDL/data/notMNIST_large/E.pickle.\n",
      "/software/home/chenzh/software/jupyter/nnNote/GoogleDL/data/notMNIST_large/E\n",
      "Full dataset tensor: (52912, 28, 28)\n",
      "Mean: -0.0698991\n",
      "Standard deviation: 0.452942\n",
      "Pickling /software/home/chenzh/software/jupyter/nnNote/GoogleDL/data/notMNIST_large/F.pickle.\n",
      "/software/home/chenzh/software/jupyter/nnNote/GoogleDL/data/notMNIST_large/F\n",
      "Full dataset tensor: (52912, 28, 28)\n",
      "Mean: -0.125583\n",
      "Standard deviation: 0.44709\n",
      "Pickling /software/home/chenzh/software/jupyter/nnNote/GoogleDL/data/notMNIST_large/G.pickle.\n",
      "/software/home/chenzh/software/jupyter/nnNote/GoogleDL/data/notMNIST_large/G\n",
      "Full dataset tensor: (52912, 28, 28)\n",
      "Mean: -0.0945816\n",
      "Standard deviation: 0.44624\n",
      "Pickling /software/home/chenzh/software/jupyter/nnNote/GoogleDL/data/notMNIST_large/H.pickle.\n",
      "/software/home/chenzh/software/jupyter/nnNote/GoogleDL/data/notMNIST_large/H\n",
      "Full dataset tensor: (52912, 28, 28)\n",
      "Mean: -0.0685223\n",
      "Standard deviation: 0.454232\n",
      "Pickling /software/home/chenzh/software/jupyter/nnNote/GoogleDL/data/notMNIST_large/I.pickle.\n",
      "/software/home/chenzh/software/jupyter/nnNote/GoogleDL/data/notMNIST_large/I\n",
      "Full dataset tensor: (52912, 28, 28)\n",
      "Mean: 0.0307862\n",
      "Standard deviation: 0.468898\n",
      "Pickling /software/home/chenzh/software/jupyter/nnNote/GoogleDL/data/notMNIST_large/J.pickle.\n",
      "/software/home/chenzh/software/jupyter/nnNote/GoogleDL/data/notMNIST_large/J\n",
      "Full dataset tensor: (52911, 28, 28)\n",
      "Mean: -0.153358\n",
      "Standard deviation: 0.443657\n",
      "Pickling /software/home/chenzh/software/jupyter/nnNote/GoogleDL/data/notMNIST_small/A.pickle.\n",
      "/software/home/chenzh/software/jupyter/nnNote/GoogleDL/data/notMNIST_small/A\n",
      "Could not read: /software/home/chenzh/software/jupyter/nnNote/GoogleDL/data/notMNIST_small/A/RGVtb2NyYXRpY2FCb2xkT2xkc3R5bGUgQm9sZC50dGY=.png : cannot identify image file '/software/home/chenzh/software/jupyter/nnNote/GoogleDL/data/notMNIST_small/A/RGVtb2NyYXRpY2FCb2xkT2xkc3R5bGUgQm9sZC50dGY=.png' - it's ok, skipping.\n",
      "Full dataset tensor: (1872, 28, 28)\n",
      "Mean: -0.132626\n",
      "Standard deviation: 0.445128\n",
      "Pickling /software/home/chenzh/software/jupyter/nnNote/GoogleDL/data/notMNIST_small/B.pickle.\n",
      "/software/home/chenzh/software/jupyter/nnNote/GoogleDL/data/notMNIST_small/B\n",
      "Full dataset tensor: (1873, 28, 28)\n",
      "Mean: 0.00535608\n",
      "Standard deviation: 0.457115\n",
      "Pickling /software/home/chenzh/software/jupyter/nnNote/GoogleDL/data/notMNIST_small/C.pickle.\n",
      "/software/home/chenzh/software/jupyter/nnNote/GoogleDL/data/notMNIST_small/C\n",
      "Full dataset tensor: (1873, 28, 28)\n",
      "Mean: -0.141521\n",
      "Standard deviation: 0.44269\n",
      "Pickling /software/home/chenzh/software/jupyter/nnNote/GoogleDL/data/notMNIST_small/D.pickle.\n",
      "/software/home/chenzh/software/jupyter/nnNote/GoogleDL/data/notMNIST_small/D\n",
      "Full dataset tensor: (1873, 28, 28)\n",
      "Mean: -0.0492167\n",
      "Standard deviation: 0.459759\n",
      "Pickling /software/home/chenzh/software/jupyter/nnNote/GoogleDL/data/notMNIST_small/E.pickle.\n",
      "/software/home/chenzh/software/jupyter/nnNote/GoogleDL/data/notMNIST_small/E\n",
      "Full dataset tensor: (1873, 28, 28)\n",
      "Mean: -0.0599148\n",
      "Standard deviation: 0.45735\n",
      "Pickling /software/home/chenzh/software/jupyter/nnNote/GoogleDL/data/notMNIST_small/F.pickle.\n",
      "/software/home/chenzh/software/jupyter/nnNote/GoogleDL/data/notMNIST_small/F\n",
      "Could not read: /software/home/chenzh/software/jupyter/nnNote/GoogleDL/data/notMNIST_small/F/Q3Jvc3NvdmVyIEJvbGRPYmxpcXVlLnR0Zg==.png : cannot identify image file '/software/home/chenzh/software/jupyter/nnNote/GoogleDL/data/notMNIST_small/F/Q3Jvc3NvdmVyIEJvbGRPYmxpcXVlLnR0Zg==.png' - it's ok, skipping.\n",
      "Full dataset tensor: (1872, 28, 28)\n",
      "Mean: -0.118185\n",
      "Standard deviation: 0.452279\n",
      "Pickling /software/home/chenzh/software/jupyter/nnNote/GoogleDL/data/notMNIST_small/G.pickle.\n",
      "/software/home/chenzh/software/jupyter/nnNote/GoogleDL/data/notMNIST_small/G\n",
      "Full dataset tensor: (1872, 28, 28)\n",
      "Mean: -0.0925503\n",
      "Standard deviation: 0.449006\n",
      "Pickling /software/home/chenzh/software/jupyter/nnNote/GoogleDL/data/notMNIST_small/H.pickle.\n",
      "/software/home/chenzh/software/jupyter/nnNote/GoogleDL/data/notMNIST_small/H\n",
      "Full dataset tensor: (1872, 28, 28)\n",
      "Mean: -0.0586893\n",
      "Standard deviation: 0.458759\n",
      "Pickling /software/home/chenzh/software/jupyter/nnNote/GoogleDL/data/notMNIST_small/I.pickle.\n",
      "/software/home/chenzh/software/jupyter/nnNote/GoogleDL/data/notMNIST_small/I\n",
      "Full dataset tensor: (1872, 28, 28)\n",
      "Mean: 0.0526451\n",
      "Standard deviation: 0.471893\n",
      "Pickling /software/home/chenzh/software/jupyter/nnNote/GoogleDL/data/notMNIST_small/J.pickle.\n",
      "/software/home/chenzh/software/jupyter/nnNote/GoogleDL/data/notMNIST_small/J\n",
      "Full dataset tensor: (1872, 28, 28)\n",
      "Mean: -0.151689\n",
      "Standard deviation: 0.448014\n"
     ]
    }
   ],
   "source": [
    "import numpy as np\n",
    "from scipy import ndimage\n",
    "from six.moves import cPickle as pickle\n",
    "\n",
    "image_size = 28  # Pixel width and height.\n",
    "pixel_depth = 255.0  # Number of levels per pixel.\n",
    "\n",
    "def load_letter(folder, min_num_images):\n",
    "    \"\"\"\n",
    "    针对单个字母的文件夹，遍历所有图片并序列化\n",
    "    返回dataset为三维数组\n",
    "    Load the data for a single letter label.\"\"\"\n",
    "    image_files = os.listdir(folder)  # 文件列表\n",
    "    dataset = np.ndarray(shape=(len(image_files), image_size, image_size), dtype=np.float32)\n",
    "    print(folder)\n",
    "    num_images = 0\n",
    "    for image in image_files:  # 每一张图\n",
    "        image_file = os.path.join(folder, image)\n",
    "        try:\n",
    "            image_data = (ndimage.imread(image_file).astype(float) - pixel_depth / 2) / pixel_depth  # 读图\n",
    "            if image_data.shape != (image_size, image_size):\n",
    "                raise Exception('Unexpected image shape: %s' % str(image_data.shape))\n",
    "            dataset[num_images, :, :] = image_data\n",
    "            num_images = num_images + 1\n",
    "        except IOError as e:\n",
    "            print('Could not read:', image_file, ':', e, '- it\\'s ok, skipping.')\n",
    "    \n",
    "    dataset = dataset[0:num_images, :, :]\n",
    "    if num_images < min_num_images:\n",
    "        raise Exception('Many fewer images than expected: %d < %d' % (num_images, min_num_images))\n",
    "    print('Full dataset tensor:', dataset.shape)\n",
    "    print('Mean:', np.mean(dataset))\n",
    "    print('Standard deviation:', np.std(dataset))\n",
    "    return dataset\n",
    "        \n",
    "def maybe_pickle(data_folders, min_num_images_per_class, force=False):\n",
    "    dataset_names = []\n",
    "    for folder in data_folders:\n",
    "        set_filename = folder + '.pickle'\n",
    "        dataset_names.append(set_filename)\n",
    "        if os.path.exists(set_filename) and not force:\n",
    "            # You may override by setting force=True.\n",
    "            print('%s already present - Skipping pickling.' % set_filename)\n",
    "        else:\n",
    "            print('Pickling %s.' % set_filename)\n",
    "            dataset = load_letter(folder, min_num_images_per_class)\n",
    "            try:\n",
    "                with open(set_filename, 'wb') as f:\n",
    "                    pickle.dump(dataset, f, pickle.HIGHEST_PROTOCOL)\n",
    "            except Exception as e:\n",
    "                print('Unable to save data to', set_filename, ':', e)\n",
    "    return dataset_names\n",
    "                      \n",
    "train_datasets = maybe_pickle(train_folders, 45000)\n",
    "test_datasets = maybe_pickle(test_folders, 1800)"
   ]
  },
  {
   "cell_type": "markdown",
   "metadata": {},
   "source": [
    "## 显示图像"
   ]
  },
  {
   "cell_type": "code",
   "execution_count": 25,
   "metadata": {},
   "outputs": [
    {
     "data": {
      "image/png": "[encoded data removed]",
      "text/plain": [
       "<matplotlib.figure.Figure at 0x7fd14d4f2750>"
      ]
     },
     "metadata": {},
     "output_type": "display_data"
    }
   ],
   "source": [
    "import matplotlib.pyplot as plt\n",
    "\n",
    "def load_pickle(pickle_name):\n",
    "    # load a pickle file to memory\n",
    "    if os.path.exists(pickle_name):\n",
    "        return pickle.load(open(pickle_name, \"r\"))\n",
    "    return None\n",
    "\n",
    "def show_imgs(imgs, show_max=-1):\n",
    "    show_cnt = show_max\n",
    "    if show_max == -1:\n",
    "        show_cnt = len(imgs)\n",
    "\n",
    "    for image_index in xrange(show_cnt):\n",
    "        # they are binary images, if RGBs, don't add cmap=\"Graeys\"\n",
    "        plt.imshow(imgs[image_index], cmap=\"Greys\")\n",
    "        plt.show()\n",
    "\n",
    "imgs_A = load_pickle(train_datasets[0])  # 读入A.pickle\n",
    "show_imgs(imgs_A, 1)"
   ]
  },
  {
   "cell_type": "markdown",
   "metadata": {},
   "source": [
    "## 训练集、测试集、验证集\n",
    "- 训练集200000、测试集10000、验证集10000\n",
    "- `random.shuffle`将数据乱序"
   ]
  },
  {
   "cell_type": "code",
   "execution_count": 26,
   "metadata": {},
   "outputs": [
    {
     "name": "stdout",
     "output_type": "stream",
     "text": [
      "Training: (200000, 28, 28) (200000,)\n",
      "Validation: (10000, 28, 28) (10000,)\n",
      "Testing: (10000, 28, 28) (10000,)\n"
     ]
    }
   ],
   "source": [
    "def make_arrays(nb_rows, img_size):\n",
    "    '''初始化'''\n",
    "    if nb_rows:\n",
    "        dataset = np.ndarray((nb_rows, img_size, img_size), dtype=np.float32)\n",
    "        labels = np.ndarray(nb_rows, dtype=np.int32)\n",
    "    else:\n",
    "        dataset, labels = None, None\n",
    "    return dataset, labels\n",
    "\n",
    "def merge_datasets(pickle_files, train_size, valid_size=0):\n",
    "    num_classes = len(pickle_files)\n",
    "    valid_dataset, valid_labels = make_arrays(valid_size, image_size)\n",
    "    train_dataset, train_labels = make_arrays(train_size, image_size)\n",
    "    vsize_per_class = valid_size // num_classes\n",
    "    tsize_per_class = train_size // num_classes\n",
    "    \n",
    "    start_v, start_t = 0, 0\n",
    "    end_v, end_t = vsize_per_class, tsize_per_class\n",
    "    end_l = vsize_per_class+tsize_per_class\n",
    "    for label, pickle_file in enumerate(pickle_files):       \n",
    "        try:\n",
    "            with open(pickle_file, 'rb') as f:\n",
    "                letter_set = pickle.load(f)\n",
    "                # let's shuffle the letters to have random validation and training set\n",
    "                np.random.shuffle(letter_set)\n",
    "                if valid_dataset is not None:\n",
    "                    valid_letter = letter_set[:vsize_per_class, :, :]\n",
    "                    valid_dataset[start_v:end_v, :, :] = valid_letter\n",
    "                    valid_labels[start_v:end_v] = label\n",
    "                    start_v += vsize_per_class\n",
    "                    end_v += vsize_per_class\n",
    "                \n",
    "                train_letter = letter_set[vsize_per_class:end_l, :, :]\n",
    "                train_dataset[start_t:end_t, :, :] = train_letter\n",
    "                train_labels[start_t:end_t] = label\n",
    "                start_t += tsize_per_class\n",
    "                end_t += tsize_per_class\n",
    "        except Exception as e:\n",
    "            print('Unable to process data from', pickle_file, ':', e)\n",
    "            raise\n",
    "            \n",
    "    return valid_dataset, valid_labels, train_dataset, train_labels\n",
    "            \n",
    "            \n",
    "train_size = 200000\n",
    "valid_size = 10000\n",
    "test_size = 10000\n",
    "\n",
    "valid_dataset, valid_labels, train_dataset, train_labels = merge_datasets(\n",
    "  train_datasets, train_size, valid_size)\n",
    "_, _, test_dataset, test_labels = merge_datasets(test_datasets, test_size)\n",
    "\n",
    "print('Training:', train_dataset.shape, train_labels.shape)\n",
    "print('Validation:', valid_dataset.shape, valid_labels.shape)\n",
    "print('Testing:', test_dataset.shape, test_labels.shape)"
   ]
  },
  {
   "cell_type": "markdown",
   "metadata": {},
   "source": [
    "## 正则化"
   ]
  },
  {
   "cell_type": "code",
   "execution_count": 27,
   "metadata": {
    "collapsed": true
   },
   "outputs": [],
   "source": [
    "def randomize(dataset, labels):\n",
    "    permutation = np.random.permutation(labels.shape[0])  # 洗牌\n",
    "    shuffled_dataset = dataset[permutation,:,:]\n",
    "    shuffled_labels = labels[permutation]\n",
    "    return shuffled_dataset, shuffled_labels\n",
    "train_dataset, train_labels = randomize(train_dataset, train_labels)\n",
    "test_dataset, test_labels = randomize(test_dataset, test_labels)\n",
    "valid_dataset, valid_labels = randomize(valid_dataset, valid_labels)"
   ]
  },
  {
   "cell_type": "markdown",
   "metadata": {},
   "source": [
    "## 保存到本地"
   ]
  },
  {
   "cell_type": "code",
   "execution_count": 28,
   "metadata": {
    "collapsed": true
   },
   "outputs": [],
   "source": [
    "pickle_file = os.path.join(data_root, 'notMNIST.pickle')\n",
    "\n",
    "try:\n",
    "    f = open(pickle_file, 'wb')\n",
    "    save = {\n",
    "        'train_dataset': train_dataset,\n",
    "        'train_labels': train_labels,\n",
    "        'valid_dataset': valid_dataset,\n",
    "        'valid_labels': valid_labels,\n",
    "        'test_dataset': test_dataset,\n",
    "        'test_labels': test_labels,\n",
    "    }\n",
    "    pickle.dump(save, f, pickle.HIGHEST_PROTOCOL)\n",
    "    f.close()\n",
    "except Exception as e:\n",
    "    print('Unable to save data to', pickle_file, ':', e)\n",
    "    raise"
   ]
  },
  {
   "cell_type": "code",
   "execution_count": 29,
   "metadata": {},
   "outputs": [
    {
     "name": "stdout",
     "output_type": "stream",
     "text": [
      "Compressed pickle size: 690800441\n"
     ]
    }
   ],
   "source": [
    "statinfo = os.stat(pickle_file)\n",
    "print('Compressed pickle size:', statinfo.st_size)"
   ]
  },
  {
   "cell_type": "markdown",
   "metadata": {},
   "source": [
    "## 数据去重\n",
    "- `.pickle`文件存在重复数据"
   ]
  },
  {
   "cell_type": "code",
   "execution_count": null,
   "metadata": {
    "collapsed": true
   },
   "outputs": [],
   "source": [
    "def clean():\n",
    "    datasets = load_pickle(os.path.join(data_root , 'notMNIST.pickle'))\n",
    "    test_dataset = datasets['test_dataset']\n",
    "    test_labels = datasets['test_labels']\n",
    "    print "
   ]
  }
 ],
 "metadata": {
  "kernelspec": {
   "display_name": "Python 2",
   "language": "python",
   "name": "python2"
  },
  "language_info": {
   "codemirror_mode": {
    "name": "ipython",
    "version": 2
   },
   "file_extension": ".py",
   "mimetype": "text/x-python",
   "name": "python",
   "nbconvert_exporter": "python",
   "pygments_lexer": "ipython2",
   "version": "2.7.13"
  }
 },
 "nbformat": 4,
 "nbformat_minor": 2
}
