{
 "cells": [
  {
   "cell_type": "markdown",
   "metadata": {},
   "source": [
    "## Hello TensorFlow\n",
    "- 测试TensorFlow是否安装成功\n",
    "- 莫烦Python_tensorflow[博客](https://morvanzhou.github.io/tutorials/machine-learning/tensorflow/)\n",
    "- Youtube[视频](https://www.youtube.com/playlist?list=PLXO45tsB95cKI5AIlf5TxxFPzb-0zeVZ8)"
   ]
  },
  {
   "cell_type": "code",
   "execution_count": 1,
   "metadata": {},
   "outputs": [
    {
     "name": "stdout",
     "output_type": "stream",
     "text": [
      "b'Hello TensorFlow!'\n"
     ]
    }
   ],
   "source": [
    "import tensorflow as tf\n",
    "hello = tf.constant('Hello TensorFlow!')\n",
    "sess = tf.Session()\n",
    "print(sess.run(hello))"
   ]
  },
  {
   "cell_type": "markdown",
   "metadata": {},
   "source": [
    "- Tensorflow首先要定义神经网络结构，然后再把数据放入结构中去运算"
   ]
  },
  {
   "cell_type": "markdown",
   "metadata": {},
   "source": [
    "## 入门小栗子"
   ]
  },
  {
   "cell_type": "code",
   "execution_count": 2,
   "metadata": {},
   "outputs": [
    {
     "name": "stdout",
     "output_type": "stream",
     "text": [
      "0 [ 0.30222175] [ 0.25906551]\n",
      "20 [ 0.14307652] [ 0.27789474]\n",
      "40 [ 0.11050152] [ 0.29461104]\n",
      "60 [ 0.10256013] [ 0.29868624]\n",
      "80 [ 0.10062414] [ 0.29967973]\n",
      "100 [ 0.10015217] [ 0.29992193]\n",
      "120 [ 0.1000371] [ 0.29998097]\n",
      "140 [ 0.10000905] [ 0.29999536]\n",
      "160 [ 0.10000221] [ 0.29999888]\n",
      "180 [ 0.10000054] [ 0.29999974]\n",
      "200 [ 0.10000014] [ 0.29999995]\n"
     ]
    }
   ],
   "source": [
    "import tensorflow as tf\n",
    "import numpy as np\n",
    "\n",
    "# create data\n",
    "x_data = np.random.rand(100).astype(np.float32)\n",
    "y_data = x_data*0.1 + 0.3\n",
    "\n",
    "### create tensorflow structure start ###\n",
    "Weights = tf.Variable(tf.random_uniform([1], -1.0, 1.0))\n",
    "biases = tf.Variable(tf.zeros([1]))\n",
    "\n",
    "y = Weights*x_data + biases\n",
    "\n",
    "# loss\n",
    "loss = tf.reduce_mean(tf.square(y - y_data))\n",
    "\n",
    "optimizer = tf.train.GradientDescentOptimizer(0.5)  # 创建optimizer，学习率0.5\n",
    "train = optimizer.minimize(loss)  # optimizer的目标是最小化loss\n",
    "\n",
    "## init初始化变量\n",
    "init = tf.global_variables_initializer()\n",
    "### create tensorflow structure end ###\n",
    "\n",
    "# 会话开始\n",
    "sess = tf.Session()\n",
    "sess.run(init)  # 真正初始化变量\n",
    "\n",
    "for step in range(201):\n",
    "    sess.run(train)  # 可以想象成TensorFlow只是生成了一张流图，只有run的时候才会输出图中的某一个节点\n",
    "    if step%20 == 0:\n",
    "        print(step, sess.run(Weights), sess.run(biases))"
   ]
  },
  {
   "cell_type": "markdown",
   "metadata": {},
   "source": [
    "## Session会话控制\n",
    "- method1：\n",
    "```\n",
    "sess = tf.Session()\n",
    "pass\n",
    "sess.close()\n",
    "```\n",
    "\n",
    "- method2：`with tf.Session() as sess:`"
   ]
  },
  {
   "cell_type": "markdown",
   "metadata": {},
   "source": [
    "## Variable变量\n",
    "- 在 Tensorflow 中，定义了某字符串是变量，它才是变量，这一点是与 Python 所不同的。"
   ]
  },
  {
   "cell_type": "code",
   "execution_count": 3,
   "metadata": {},
   "outputs": [
    {
     "name": "stdout",
     "output_type": "stream",
     "text": [
      "1\n",
      "2\n",
      "3\n"
     ]
    }
   ],
   "source": [
    "import tensorflow as tf\n",
    "\n",
    "state = tf.Variable(0, name='counter')\n",
    "one = tf.constant(1)  # 定义常量\n",
    "\n",
    "new_value = tf.add(state, one)  # new_value = state + 1\n",
    "update = tf.assign(state, new_value)  # state = state + 1\n",
    "\n",
    "init = tf.global_variables_initializer()\n",
    "\n",
    "with tf.Session() as sess:\n",
    "    sess.run(init)\n",
    "    for _ in range(3):\n",
    "        sess.run(update)\n",
    "        print(sess.run(state))"
   ]
  },
  {
   "cell_type": "markdown",
   "metadata": {},
   "source": [
    "## Placeholder传入值\n",
    "- 简单的理解，当执行`Session.run()`时，想要传入参数值，则使用Placeholder"
   ]
  },
  {
   "cell_type": "code",
   "execution_count": 4,
   "metadata": {},
   "outputs": [
    {
     "name": "stdout",
     "output_type": "stream",
     "text": [
      "70.0\n"
     ]
    }
   ],
   "source": [
    "import tensorflow as tf\n",
    "\n",
    "input1 = tf.placeholder(tf.float32)  # tensorflow中，数据type一般为float32\n",
    "input2 = tf.placeholder(tf.float32)\n",
    "\n",
    "output = tf.multiply(input1, input2)\n",
    "\n",
    "with tf.Session() as sess:\n",
    "    print(sess.run(output, feed_dict={input1: 7., input2: 10.}))"
   ]
  },
  {
   "cell_type": "markdown",
   "metadata": {},
   "source": [
    "## 栗子 添加层 def add_layer()"
   ]
  },
  {
   "cell_type": "code",
   "execution_count": 9,
   "metadata": {
    "collapsed": true
   },
   "outputs": [],
   "source": [
    "import tensorflow as tf\n",
    "def add_layer(inputs, in_size, out_size, activation_function=None):\n",
    "    # 用正态分布初始化权值比全0好\n",
    "    # Weights是一个in_zize*out_size的矩阵\n",
    "    # 每一个输入神经元对应一个输出神经元都有一个weight\n",
    "    Weights = tf.Variable(tf.random_normal([in_size, out_size]))\n",
    "    # biases不推荐为0\n",
    "    # 每一个输出神经元对应一个biase\n",
    "    biases = tf.Variable(tf.zeros([1, out_size]) + 0.1)\n",
    "    \n",
    "    Wx_plus_b = tf.matmul(inputs, Weights) + biases\n",
    "    \n",
    "    if activation_function is None:\n",
    "        outputs = Wx_plus_b\n",
    "    else:\n",
    "        outputs = activation_function(Wx_plus_b)\n",
    "    return outputs"
   ]
  },
  {
   "cell_type": "markdown",
   "metadata": {},
   "source": [
    "## 栗子 建造神经网络"
   ]
  },
  {
   "cell_type": "code",
   "execution_count": 10,
   "metadata": {},
   "outputs": [
    {
     "name": "stdout",
     "output_type": "stream",
     "text": [
      "0.198814\n",
      "0.00907055\n",
      "0.0073761\n",
      "0.0063226\n",
      "0.00543304\n",
      "0.00479273\n",
      "0.00445862\n",
      "0.00420264\n",
      "0.00401705\n",
      "0.00380566\n"
     ]
    }
   ],
   "source": [
    "import tensorflow as tf\n",
    "import numpy as np\n",
    "\n",
    "# create data\n",
    "x_data = np.linspace(-1, 1, 300, dtype=np.float32)[:, np.newaxis]  # 将一维向量变成了矩阵，该矩阵只有一列\n",
    "noise = np.random.normal(0, 0.05, x_data.shape).astype(np.float32)  # 加入noise\n",
    "y_data = np.square(x_data) - 0.5 + noise  # y=x*x-0.5\n",
    "\n",
    "# define placeholder for inputs to network\n",
    "# None表示输入多少都可以，输入特征为一维\n",
    "xs = tf.placeholder(tf.float32, [None, 1])\n",
    "ys = tf.placeholder(tf.float32, [None, 1])\n",
    "\n",
    "### 正式开始构建网络 ###\n",
    "# 隐藏层\n",
    "hid_layer = add_layer(xs, 1, 10, activation_function=tf.nn.relu)  # 输入层一个神经元，隐藏层10个神经元\n",
    "# 输出层\n",
    "out_layer = add_layer(hid_layer, 10, 1, activation_function=None)\n",
    "\n",
    "# loss\n",
    "loss = tf.reduce_mean(tf.reduce_sum(tf.square(ys - out_layer),\n",
    "                                   axis=1))  # axis=1, 按行相加\n",
    "\n",
    "optimizer = tf.train.GradientDescentOptimizer(0.1)  # 学习率0.1\n",
    "train = optimizer.minimize(loss)\n",
    "\n",
    "init = tf.global_variables_initializer()  # 变量初始化，必不可少\n",
    "### 网络搭建完成 ###\n",
    "\n",
    "with tf.Session() as sess:\n",
    "    sess.run(init)\n",
    "    for i in range(1000):\n",
    "        sess.run(train, feed_dict={xs: x_data, ys: y_data})\n",
    "        if i%100 == 0:\n",
    "            print(sess.run(loss, feed_dict={xs: x_data, ys: y_data}))"
   ]
  },
  {
   "cell_type": "markdown",
   "metadata": {},
   "source": [
    "## 栗子 结果可视化\n",
    "- 运行.py文件才能看到动图"
   ]
  },
  {
   "cell_type": "code",
   "execution_count": 7,
   "metadata": {},
   "outputs": [
    {
     "data": {
      "image/png": "[encoded data removed]",
      "text/plain": [
       "<matplotlib.figure.Figure at 0x17638ef9f60>"
      ]
     },
     "metadata": {},
     "output_type": "display_data"
    }
   ],
   "source": [
    "# plot the real data\n",
    "import matplotlib.pyplot as plt\n",
    "%matplotlib inline\n",
    "\n",
    "fig = plt.figure()\n",
    "ax = fig.add_subplot(1, 1, 1)\n",
    "ax.scatter(x_data, y_data)\n",
    "plt.show()"
   ]
  },
  {
   "cell_type": "code",
   "execution_count": 8,
   "metadata": {},
   "outputs": [
    {
     "data": {
      "image/png": "[encoded data removed]",
      "text/plain": [
       "<matplotlib.figure.Figure at 0x17639cbc860>"
      ]
     },
     "metadata": {},
     "output_type": "display_data"
    }
   ],
   "source": [
    "fig = plt.figure()\n",
    "ax = fig.add_subplot(1, 1, 1)\n",
    "ax.scatter(x_data, y_data)\n",
    "plt.ion()  # 继续画图\n",
    "plt.show()\n",
    "\n",
    "with tf.Session() as sess:\n",
    "    sess.run(init)\n",
    "    for i in range(1000):\n",
    "        sess.run(train, feed_dict={xs: x_data, ys: y_data})\n",
    "        if i%50 == 0:\n",
    "            try:\n",
    "                ax.lines.remove(lines[0])  # 删除上一条线\n",
    "            except Exception:\n",
    "                pass\n",
    "            prediction_value = sess.run(out_layer, feed_dict={xs: x_data})\n",
    "            lines = ax.plot(x_data, prediction_value, 'r-', lw=5)\n",
    "            plt.pause(0.1)  # 暂停0.1秒"
   ]
  },
  {
   "cell_type": "markdown",
   "metadata": {
    "collapsed": true
   },
   "source": [
    "## Tensorboard可视化1——网络结构\n",
    "- Win10下实现\n",
    "  - 如果tensorflow安装在另一evn中，需要通过`activate tensorflow`先激活\n",
    "  - 在teminal中使用cd进入tensorboard目录，如`C:\\ProgramData\\Anaconda2\\envs\\tensorflow\\Lib\\site-packages\\tensorflow\\tensorboard`\n",
    "  - 将生成的logs文件夹放入tensorboard文件夹中\n",
    "  - 在teminal中运行`tensorboard --logdir=log`\n",
    "  - chrome浏览器打开`localhost:6006`\n",
    "  - 另一种思路：\n",
    "      - writer = tf.summary.FileWriter('f:/logs', sess.graph)\n",
    "      - tensorboard --logdir=f://logs/"
   ]
  },
  {
   "cell_type": "code",
   "execution_count": 27,
   "metadata": {
    "collapsed": true
   },
   "outputs": [],
   "source": [
    "import tensorflow as tf\n",
    "import numpy as np\n",
    "\n",
    "# define placeholder for inputs to network\n",
    "with tf.name_scope('inputs'):  # 形成一个大的图层'inputs'\n",
    "    xs = tf.placeholder(tf.float32, [None, 1], name='x_input')\n",
    "    ys = tf.placeholder(tf.float32, [None, 1], name='y_input')\n",
    "    \n",
    "def add_layer(inputs, in_size, out_size, activation_function=None):\n",
    "    with tf.name_scope('layer'):  # 整个层的名称\n",
    "        with tf.name_scope('weights'):\n",
    "            Weights = tf.Variable(tf.random_normal([in_size, out_size]), name='W')\n",
    "        with tf.name_scope('biases'):\n",
    "            biases = tf.Variable(tf.zeros([1, out_size]) + 0.1, name='b')\n",
    "        with tf.name_scope('Wx_plus_b'):\n",
    "            Wx_plus_b = tf.add(tf.matmul(inputs, Weights), biases)\n",
    "\n",
    "        if activation_function is None:\n",
    "            outputs = Wx_plus_b\n",
    "        else:\n",
    "            outputs = activation_function(Wx_plus_b)  # 激励函数自动添加name\n",
    "        return outputs\n",
    "    \n",
    "###\n",
    "hid_layer = add_layer(xs, 1, 10, activation_function=tf.nn.relu)\n",
    "out_layer = add_layer(hid_layer, 10, 1)\n",
    "###\n",
    "\n",
    "with tf.name_scope('loss'):\n",
    "    loss = tf.reduce_mean(tf.reduce_sum(tf.square(ys - out_layer),\n",
    "                                       axis=1))\n",
    "\n",
    "optimizer = tf.train.GradientDescentOptimizer(0.1)  # 学习率0.1\n",
    "\n",
    "with tf.name_scope('train'):\n",
    "    train = optimizer.minimize(loss)\n",
    "\n",
    "init = tf.global_variables_initializer()  # 变量初始化，必不可少\n",
    "### 网络搭建完成 ###\n",
    "\n",
    "with tf.Session() as sess:\n",
    "    writer = tf.summary.FileWriter('logs/', sess.graph)\n",
    "    sess.run(init)"
   ]
  },
  {
   "cell_type": "markdown",
   "metadata": {
    "collapsed": true
   },
   "source": [
    "## TensorFlow可视化2——trainLog"
   ]
  },
  {
   "cell_type": "code",
   "execution_count": 22,
   "metadata": {
    "collapsed": true
   },
   "outputs": [],
   "source": [
    "import tensorflow as tf\n",
    "import numpy as np\n",
    "\n",
    "# create data\n",
    "x_data = np.linspace(-1, 1, 300, dtype=np.float32)[:, np.newaxis]  # 将一维向量变成了矩阵，该矩阵只有一列\n",
    "noise = np.random.normal(0, 0.05, x_data.shape).astype(np.float32)  # 加入noise\n",
    "y_data = np.square(x_data) - 0.5 + noise  # y=x*x-0.5\n",
    "\n",
    "# define placeholder for inputs to network\n",
    "xs = tf.placeholder(tf.float32, [None, 1])\n",
    "ys = tf.placeholder(tf.float32, [None, 1])\n",
    "\n",
    "def add_layer(inputs, in_size, out_size, n_layer, activation_function=None):\n",
    "    layer_name = 'layer%s' % n_layer\n",
    "    with tf.name_scope('layer'):\n",
    "        with tf.name_scope('weights'):\n",
    "            Weights = tf.Variable(tf.random_normal([in_size, out_size]), name = 'W')\n",
    "            s1 = tf.summary.histogram(layer_name + '/weights', Weights)  # 显示Weights\n",
    "        \n",
    "        with tf.name_scope('biases'):\n",
    "            biases = tf.Variable(tf.zeros([1,out_size]) + 0.1, name='b')\n",
    "            s2 = tf.summary.histogram(layer_name + '/biases', biases)  # 显示biases\n",
    "\n",
    "        with tf.name_scope('Wx_plus_b'):\n",
    "            Wx_plus_b = tf.add(tf.matmul(inputs, Weights), biases)\n",
    "            \n",
    "        if activation_function is None:\n",
    "            outputs=Wx_plus_b\n",
    "        else:\n",
    "            outputs= activation_function(Wx_plus_b)\n",
    "        return outputs\n",
    "            \n",
    "###\n",
    "hid_layer = add_layer(x_data, 1, 10, n_layer=1, activation_function=tf.nn.relu)\n",
    "out_layer = add_layer(hid_layer, 10, 1, n_layer=2)\n",
    "init = tf.global_variables_initializer()\n",
    "\n",
    "###\n",
    "\n",
    "# loss\n",
    "with tf.name_scope('loss'):\n",
    "    loss= tf.reduce_mean(tf.reduce_sum(tf.square(ys - out_layer), axis=1))\n",
    "    tf.summary.scalar('LOSS', loss) # 显示loss\n",
    "\n",
    "optimizer = tf.train.GradientDescentOptimizer(0.1)  # 学习率0.1\n",
    "train = optimizer.minimize(loss)\n",
    "\n",
    "sess = tf.Session()\n",
    "merged = tf.summary.merge_all()  # 将所有的summary合并在一起\n",
    "writer = tf.summary.FileWriter('trainLog/', sess.graph)\n",
    "sess.run(init)\n",
    "\n",
    "# train\n",
    "for i in range(1000):\n",
    "    sess.run(train, feed_dict={xs: x_data, ys: y_data})\n",
    "    if i%50 == 0:  # 每隔50步记录一次结果\n",
    "        pass\n",
    "#         print(sess.run(loss, feed_dict={xs: x_data, ys: y_data}))\n",
    "#         rs = sess.run(merged, feed_dict={xs: x_data, ys: y_data})\n",
    "#         writer.add_summary(rs, i)"
   ]
  }
 ],
 "metadata": {
  "kernelspec": {
   "display_name": "Python 3",
   "language": "python",
   "name": "python3"
  },
  "language_info": {
   "codemirror_mode": {
    "name": "ipython",
    "version": 3
   },
   "file_extension": ".py",
   "mimetype": "text/x-python",
   "name": "python",
   "nbconvert_exporter": "python",
   "pygments_lexer": "ipython3",
   "version": "3.5.4"
  }
 },
 "nbformat": 4,
 "nbformat_minor": 2
}
